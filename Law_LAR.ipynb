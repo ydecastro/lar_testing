{
 "cells": [
  {
   "cell_type": "markdown",
   "metadata": {
    "collapsed": true,
    "pycharm": {
     "is_executing": false,
     "name": "#%% md\n"
    }
   },
   "source": [
    "# Law of the LAR's knots\n",
    "\n",
    "In this notebook, we present the law of the knots of the LAR. This result has been given in \"*Multiple Testing and Variable Selection along Least Angle Regression's path*\" (Azaïs and De Castro, 2019). \n",
    "\n",
    "## The recursive formulation of the LAR\n",
    "\n",
    "We begin with a new recursive algorithm, equivalent to LAR, that produces the sequence $(i_k,\\lambda_k)$ of indexes $i_k$ and knots $\\lambda_k$ of the LAR. This program has been implemnted under the name **lar_rec** given in the file *multiple_spacing_tests.py*."
   ]
  },
  {
   "cell_type": "code",
   "execution_count": 1,
   "metadata": {},
   "outputs": [],
   "source": [
    "import numpy as np\n",
    "import matplotlib.pyplot as plt\n",
    "from multiple_spacing_tests import lar_rec, generate_variables"
   ]
  },
  {
   "cell_type": "markdown",
   "metadata": {},
   "source": [
    "The function **generate_variables** gives an istance of a high-dimensional regression problem with *predictors_number* the number of predictors, *sample_size* the sample size, *sparsity=0* the sparsity of the target vector (each nonzero entry is a Rademacher random variable $\\{\\pm 1\\}$), $sigma=1$ the noise level. \n",
    "\n",
    "The matrix $Z$ is equal to $Z=X X^\\top$ where $X$ is a design matrix given by drawing i.i.d. Gaussian rows. The matrix $R$ is given by $R=[Z, -Z; -Z, Z]$. The target vector is *beta_0* and the response variable is $Y$.\n",
    "\n",
    "Here, $p=250$ (predictors number) and $n=50$ (sample size)."
   ]
  },
  {
   "cell_type": "code",
   "execution_count": 2,
   "metadata": {},
   "outputs": [],
   "source": [
    "[Z,R,sigma,X,noise_correlation,sparsity,beta_0,Y]=generate_variables(predictors_number=250, sample_size=50)"
   ]
  },
  {
   "cell_type": "markdown",
   "metadata": {},
   "source": [
    "We compute the LAR using the recursive formulation. See also the notebook *multiple_spacing_tests.ipynb* for a comparison with SciKitLearn version of LAR.\n",
    "\n",
    "It returns the knots *lambas* and the indexes *indexes*. "
   ]
  },
  {
   "cell_type": "code",
   "execution_count": 3,
   "metadata": {},
   "outputs": [
    {
     "data": {
      "image/png": "[encoded data removed]",
      "text/plain": [
       "<Figure size 432x288 with 1 Axes>"
      ]
     },
     "metadata": {
      "needs_background": "light"
     },
     "output_type": "display_data"
    }
   ],
   "source": [
    "[lambdas, indexes, correls, R, Z] = lar_rec(X,Y)\n",
    "\n",
    "k_max = np.size(indexes)\n",
    "\n",
    "plt.plot(range(k_max-1),lambdas[:k_max-1])\n",
    "plt.legend([r'recursive'])\n",
    "plt.tight_layout()\n",
    "plt.xlabel(r'$k$')\n",
    "plt.ylabel(r'$\\lambda_k$')\n",
    "plt.show()"
   ]
  },
  {
   "cell_type": "markdown",
   "metadata": {},
   "source": [
    "## The joint law of the knots\n",
    "\n",
    "Given the joint law of the knots proved in \"*Multiple Testing and Variable Selection along Least Angle Regression's path*\" (Azaïs and De Castro, 2019), one can compute the conditional law of $\\lambda_b\\|\\lambda_a,\\lambda_c$ whose cdf is denoted by $\\mathbb F_{abc}$. In particuler, our theoretical analysis shows that $\\hat\\alpha_{abc}=\\mathbb F_{abc}(\\lambda_b)$ is uniformly distributed under the null (i.e., the target vector is zero). \n",
    "\n",
    "One can compute $\\hat\\alpha_{abc}$ using the function **observed_significance_CBC**. CBC means Component-By-Component as in \"*Fast algorithms for component-by-component construction of rank-1 lattice rules in shift-invariant reproducing kernel Hilbert spaces*\" by D. Nuyens, R. Cools iun Mathematics of Computation, 2006. It is a lattice rule to compute the conditional marginal distribution of $\\lambda_b$. \n",
    "\n",
    "Here, we compute $\\hat\\alpha_{136}$."
   ]
  },
  {
   "cell_type": "code",
   "execution_count": 4,
   "metadata": {},
   "outputs": [
    {
     "name": "stdout",
     "output_type": "stream",
     "text": [
      "Observed significance is 0.5104805749849506\n"
     ]
    }
   ],
   "source": [
    "from multiple_spacing_tests import observed_significance_CBC\n",
    "\n",
    "# compute the LAR\n",
    "lars = [lambdas, indexes, correls]\n",
    "\n",
    "# a (start), b (middle) and c (end)\n",
    "start = 1\n",
    "middle = 3\n",
    "end = 6\n",
    "\n",
    "# hat alpha \n",
    "alpha, __, __ = observed_significance_CBC(lars, sigma=sigma, start=start, end=end, middle=middle)\n",
    "\n",
    "print(\"Observed significance is %s\" % alpha)"
   ]
  },
  {
   "cell_type": "markdown",
   "metadata": {},
   "source": [
    "By Monte Carlo, one can observe the law of $\\hat\\alpha_{abc}$. This is done by the command \n",
    "\n",
    "**empirical_law_first_knots(predictors_number=250,\n",
    "                              sample_size=50,\n",
    "                              end=5,\n",
    "                              start=1,\n",
    "                              iterations=5000,\n",
    "                              display=1,\n",
    "                              eval_points=99991)**\n",
    "                              \n",
    "over 5000 Monte Carlo simulations and 99991 points of Lattice rule. It took us several hours (around 20h) to run this command and we give you the result here. Of course, you can check that you get the same result by running the above command. Thank you for tyour time!\n",
    "\n",
    "![Knots Law](img/laws_final.png)"
   ]
  }
 ],
 "metadata": {
  "kernelspec": {
   "display_name": "Python 3",
   "language": "python",
   "name": "python3"
  },
  "language_info": {
   "codemirror_mode": {
    "name": "ipython",
    "version": 3
   },
   "file_extension": ".py",
   "mimetype": "text/x-python",
   "name": "python",
   "nbconvert_exporter": "python",
   "pygments_lexer": "ipython3",
   "version": "3.7.4"
  },
  "pycharm": {
   "stem_cell": {
    "cell_type": "raw",
    "metadata": {
     "collapsed": false
    },
    "source": []
   }
  }
 },
 "nbformat": 4,
 "nbformat_minor": 1
}
